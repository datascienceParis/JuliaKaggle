{
 "cells": [
  {
   "cell_type": "markdown",
   "metadata": {},
   "source": [
    "# Loading Data"
   ]
  },
  {
   "cell_type": "code",
   "execution_count": 9,
   "metadata": {
    "collapsed": false
   },
   "outputs": [],
   "source": [
    "import pandas as pd \n",
    "from skimage.io import imread\n",
    "import numpy as np\n",
    "\n",
    "def read_data(typeData, labelsInfo, imageSize, path):\n",
    " #Intialize x  matrix\n",
    " x = np.zeros((labelsInfo.shape[0], imageSize))\n",
    "\n",
    " for (index, idImage) in enumerate(labelsInfo[\"ID\"]):\n",
    "  #Read image file\n",
    "  nameFile = \"{0}/{1}Resized/{2}.Bmp\".format(path, typeData, idImage)\n",
    "  img = imread(nameFile, as_grey=True)\n",
    "\n",
    "  x[index, :] = np.reshape(img, (1, imageSize))\n",
    " return x"
   ]
  },
  {
   "cell_type": "code",
   "execution_count": 10,
   "metadata": {
    "collapsed": false
   },
   "outputs": [],
   "source": [
    "imageSize = 400 # 20 x 20 pixels\n",
    "\n",
    "#Set location of data files , folders\n",
    "path = \"/home/faizy/workspace/julia\"\n",
    "\n",
    "labelsInfoTrain = pd.read_csv(\"{0}/trainLabels.csv\".format(path))\n",
    "\n",
    "#Read training matrix\n",
    "xTrain = read_data(\"train\", labelsInfoTrain, imageSize, path)\n",
    "\n",
    "#Read information about test data ( IDs ).\n",
    "labelsInfoTest = pd.read_csv(\"{0}/sampleSubmission.csv\".format(path))\n",
    "\n",
    "#Read test matrix\n",
    "xTest = read_data(\"test\", labelsInfoTest, imageSize, path)\n",
    "\n",
    "yTrain = map(ord, labelsInfoTrain[\"Class\"])\n",
    "yTrain = np.array(yTrain)"
   ]
  },
  {
   "cell_type": "markdown",
   "metadata": {},
   "source": [
    "# Importing main functions"
   ]
  },
  {
   "cell_type": "code",
   "execution_count": 11,
   "metadata": {
    "collapsed": false
   },
   "outputs": [],
   "source": [
    "from sklearn.cross_validation import cross_val_score as k_fold_CV\n",
    "from sklearn.neighbors import KNeighborsClassifier as KNN\n",
    "from sklearn.grid_search import GridSearchCV"
   ]
  },
  {
   "cell_type": "markdown",
   "metadata": {},
   "source": [
    "# Running LOOF-CV with 1NN sequentially"
   ]
  },
  {
   "cell_type": "code",
   "execution_count": 8,
   "metadata": {
    "collapsed": false
   },
   "outputs": [
    {
     "name": "stdout",
     "output_type": "stream",
     "text": [
      "The 2-CV accuracy of 1NN 0.365749868629\n",
      "22.0709998608 seconds elapsed\n"
     ]
    }
   ],
   "source": [
    "import time\n",
    "start = time.time()\n",
    "model = KNN(n_neighbors=1)\n",
    "cvAccuracy = np.mean(k_fold_CV(model, xTrain, yTrain, cv=2, scoring=\"accuracy\"))\n",
    "print \"The 2-CV accuracy of 1NN\", cvAccuracy\n",
    "print time.time() - start, \"seconds elapsed\"\n"
   ]
  },
  {
   "cell_type": "markdown",
   "metadata": {},
   "source": [
    "# Tuning the value for k"
   ]
  },
  {
   "cell_type": "code",
   "execution_count": 12,
   "metadata": {
    "collapsed": false
   },
   "outputs": [
    {
     "name": "stdout",
     "output_type": "stream",
     "text": [
      "[mean: 0.43196, std: 0.02665, params: {'n_neighbors': 1}, mean: 0.38628, std: 0.02507, params: {'n_neighbors': 2}, mean: 0.38724, std: 0.02089, params: {'n_neighbors': 3}, mean: 0.39106, std: 0.01994, params: {'n_neighbors': 4}, mean: 0.39185, std: 0.02410, params: {'n_neighbors': 5}, mean: 0.39169, std: 0.02519, params: {'n_neighbors': 6}, mean: 0.38978, std: 0.02657, params: {'n_neighbors': 7}, mean: 0.38803, std: 0.02843, params: {'n_neighbors': 8}, mean: 0.39153, std: 0.02587, params: {'n_neighbors': 9}]\n",
      "281.310079098 seconds elapsed\n"
     ]
    }
   ],
   "source": [
    "start = time.time()\n",
    "tuned_parameters = [{\"n_neighbors\":list(range(1,10))}]\n",
    "clf = GridSearchCV( model, tuned_parameters, cv=10, scoring=\"accuracy\")\n",
    "clf.fit(xTrain, yTrain)\n",
    "print clf.grid_scores_\n",
    "print time.time() - start, \"seconds elapsed\""
   ]
  },
  {
   "cell_type": "code",
   "execution_count": null,
   "metadata": {
    "collapsed": true
   },
   "outputs": [],
   "source": []
  }
 ],
 "metadata": {
  "kernelspec": {
   "display_name": "Python 2",
   "language": "python",
   "name": "python2"
  },
  "language_info": {
   "codemirror_mode": {
    "name": "ipython",
    "version": 2
   },
   "file_extension": ".py",
   "mimetype": "text/x-python",
   "name": "python",
   "nbconvert_exporter": "python",
   "pygments_lexer": "ipython2",
   "version": "2.7.10"
  }
 },
 "nbformat": 4,
 "nbformat_minor": 0
}
