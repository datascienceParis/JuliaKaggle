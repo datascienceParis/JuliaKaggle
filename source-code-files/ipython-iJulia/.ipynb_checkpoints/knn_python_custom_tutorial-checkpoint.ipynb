{
 "cells": [
  {
   "cell_type": "markdown",
   "metadata": {},
   "source": [
    "# Loading Data"
   ]
  },
  {
   "cell_type": "code",
   "execution_count": 1,
   "metadata": {
    "collapsed": false
   },
   "outputs": [],
   "source": [
    "import pandas as pd \n",
    "from skimage.io import imread\n",
    "import numpy as np\n",
    "\n",
    "def read_data(typeData, labelsInfo, imageSize, path):\n",
    " #Intialize x  matrix\n",
    " x = np.zeros((labelsInfo.shape[0], imageSize))\n",
    "\n",
    " for (index, idImage) in enumerate(labelsInfo[\"ID\"]):\n",
    "  #Read image file\n",
    "  nameFile = \"{0}/{1}Resized/{2}.Bmp\".format(path, typeData, idImage)\n",
    "  img = imread(nameFile, as_grey=True)\n",
    "\n",
    "  x[index, :] = np.reshape(img, (1, imageSize))\n",
    " return x"
   ]
  },
  {
   "cell_type": "code",
   "execution_count": 11,
   "metadata": {
    "collapsed": false
   },
   "outputs": [],
   "source": [
    "imageSize = 400 # 20 x 20 pixels\n",
    "\n",
    "#Set location of data files , folders\n",
    "path = \"...\"\n",
    "\n",
    "labelsInfoTrain = pd.read_csv(\"{0}/trainLabels.csv\".format(path))\n",
    "\n",
    "#Read training matrix\n",
    "xTrain = read_data(\"train\", labelsInfoTrain, imageSize, path)\n",
    "\n",
    "#Read information about test data ( IDs ).\n",
    "labelsInfoTest = pd.read_csv(\"{0}/sampleSubmission.csv\".format(path))\n",
    "\n",
    "#Read test matrix\n",
    "xTest = read_data(\"test\", labelsInfoTest, imageSize, path)\n",
    "\n",
    "yTrain = map(ord, labelsInfoTrain[\"Class\"])"
   ]
  },
  {
   "cell_type": "markdown",
   "metadata": {},
   "source": [
    "# Defining main functions"
   ]
  },
  {
   "cell_type": "code",
   "execution_count": 12,
   "metadata": {
    "collapsed": false
   },
   "outputs": [],
   "source": [
    "def euclidean_distance (a, b):\n",
    " dif = a - b\n",
    " return dif.dot(dif)"
   ]
  },
  {
   "cell_type": "code",
   "execution_count": 13,
   "metadata": {
    "collapsed": false
   },
   "outputs": [],
   "source": [
    "def get_k_nearest_neighbors(x, i, k):\n",
    " imageI = x[i,:]\n",
    " distances = [euclidean_distance(imageI, x[j,:]) for j in xrange(x.shape[0])]     \n",
    " sortedNeighbors = np.argsort(distances)\n",
    " kNearestNeighbors = sortedNeighbors[1:(k+1)]\n",
    " return kNearestNeighbors"
   ]
  },
  {
   "cell_type": "code",
   "execution_count": 16,
   "metadata": {
    "collapsed": false
   },
   "outputs": [],
   "source": [
    "def assign_label(x, y, k, i):\n",
    " kNearestNeighbors = get_k_nearest_neighbors(x, i, k)\n",
    " counts = {}\n",
    " highestCount = 0\n",
    " mostPopularLabel = 0\n",
    " for n in kNearestNeighbors:\n",
    "  labelOfN = y[n]\n",
    "  if labelOfN not in counts :\n",
    "   counts[labelOfN] = 0\n",
    "  counts[labelOfN] += 1\n",
    "  if counts[labelOfN] > highestCount :\n",
    "   highestCount = counts[labelOfN]\n",
    "   mostPopularLabel = labelOfN\n",
    " return mostPopularLabel"
   ]
  },
  {
   "cell_type": "markdown",
   "metadata": {},
   "source": [
    "# Running LOOF-CV with 1NN sequentially"
   ]
  },
  {
   "cell_type": "code",
   "execution_count": 17,
   "metadata": {
    "collapsed": false
   },
   "outputs": [
    {
     "name": "stdout",
     "output_type": "stream",
     "text": [
      "307.865999937 seconds elapsed\n"
     ]
    }
   ],
   "source": [
    "import time\n",
    "start = time.time()\n",
    "k=1\n",
    "yPredictions = [assign_label(xTrain, yTrain, k, i) for i in xrange(xTrain.shape[0])]\n",
    "print time.time() - start, \"seconds elapsed\""
   ]
  }
 ],
 "metadata": {
  "kernelspec": {
   "display_name": "Python 2",
   "language": "python",
   "name": "python2"
  },
  "language_info": {
   "codemirror_mode": {
    "name": "ipython",
    "version": 2
   },
   "file_extension": ".py",
   "mimetype": "text/x-python",
   "name": "python",
   "nbconvert_exporter": "python",
   "pygments_lexer": "ipython2",
   "version": "2.7.10"
  }
 },
 "nbformat": 4,
 "nbformat_minor": 0
}
